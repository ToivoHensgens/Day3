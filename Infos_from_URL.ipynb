{
 "cells": [
  {
   "cell_type": "code",
   "execution_count": 62,
   "metadata": {
    "collapsed": false
   },
   "outputs": [],
   "source": [
    "'''\n",
    "How the function infos works:\n",
    "One should give the URL of the arXiv file.\n",
    "Choices of infos to be extracted are:\n",
    "title - Gives the title of the article\n",
    "summary - Gives the abstract of the article\n",
    "authors - Gives the name of all authors of the article, in the order given on the paper\n",
    "author - Gives the name of the last author of the article\n",
    "date - Gives the date of publication in the format 'YYYY-MM-DDThh:mm:ssZ'\n",
    "'''\n",
    "\n",
    " \n",
    "def infos(URL, number, choice):\n",
    "    import urllib\n",
    "    import feedparser\n",
    "    d = feedparser.parse(URL)\n",
    "    return(eval('d.entries[{0}].{1}'.format(number,choice)))\n"
   ]
  },
  {
   "cell_type": "code",
   "execution_count": 63,
   "metadata": {
    "collapsed": false
   },
   "outputs": [
    {
     "name": "stdout",
     "output_type": "stream",
     "text": [
      "We present a class of exactly solvable models of correlated electrons. The\n",
      "models are defined in any dimension $d$ and consist of electron-hopping terms\n",
      "and local attractive interactions between electrons. For each even number of\n",
      "electrons less than or equal to $1/(d+1)$-filling, we find the exact ground\n",
      "state in which all electrons form pairs of a certain type, and thus the models\n",
      "exhibit an electron-pair condensation.\n"
     ]
    }
   ],
   "source": [
    "print(infos('http://export.arxiv.org/api/query?search_query=all:electron&start=0&max_results=15', '5', 'summary'))"
   ]
  },
  {
   "cell_type": "code",
   "execution_count": null,
   "metadata": {
    "collapsed": true
   },
   "outputs": [],
   "source": []
  }
 ],
 "metadata": {
  "kernelspec": {
   "display_name": "Python 3",
   "language": "python",
   "name": "python3"
  },
  "language_info": {
   "codemirror_mode": {
    "name": "ipython",
    "version": 3
   },
   "file_extension": ".py",
   "mimetype": "text/x-python",
   "name": "python",
   "nbconvert_exporter": "python",
   "pygments_lexer": "ipython3",
   "version": "3.4.0"
  }
 },
 "nbformat": 4,
 "nbformat_minor": 0
}
